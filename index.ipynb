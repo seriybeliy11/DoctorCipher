{
 "cells": [
  {
   "cell_type": "code",
   "execution_count": 1,
   "id": "8b8d6290-c555-4138-a58e-7dc0f517218c",
   "metadata": {},
   "outputs": [],
   "source": [
    "import pandas as pid "
   ]
  },
  {
   "cell_type": "code",
   "execution_count": 2,
   "id": "94f86e2f-5a11-44a1-acf5-d217550117b3",
   "metadata": {},
   "outputs": [],
   "source": [
    "import matplotlib.pyplot as pip "
   ]
  },
  {
   "cell_type": "code",
   "execution_count": 3,
   "id": "3e28ddf7-0df6-422f-b8c8-7a9959628a5e",
   "metadata": {},
   "outputs": [],
   "source": [
    "import numpy"
   ]
  },
  {
   "cell_type": "code",
   "execution_count": 4,
   "id": "cc06e80d-c3a5-43b3-8070-9ded263380ed",
   "metadata": {},
   "outputs": [],
   "source": [
    "data_enter = pid.read_csv('arc.csv')"
   ]
  },
  {
   "cell_type": "code",
   "execution_count": 5,
   "id": "95294d29-d39b-478c-9474-60c5f4026cdd",
   "metadata": {},
   "outputs": [
    {
     "data": {
      "text/html": [
       "<div>\n",
       "<style scoped>\n",
       "    .dataframe tbody tr th:only-of-type {\n",
       "        vertical-align: middle;\n",
       "    }\n",
       "\n",
       "    .dataframe tbody tr th {\n",
       "        vertical-align: top;\n",
       "    }\n",
       "\n",
       "    .dataframe thead th {\n",
       "        text-align: right;\n",
       "    }\n",
       "</style>\n",
       "<table border=\"1\" class=\"dataframe\">\n",
       "  <thead>\n",
       "    <tr style=\"text-align: right;\">\n",
       "      <th></th>\n",
       "      <th>year</th>\n",
       "      <th>extent</th>\n",
       "    </tr>\n",
       "  </thead>\n",
       "  <tbody>\n",
       "    <tr>\n",
       "      <th>0</th>\n",
       "      <td>1979</td>\n",
       "      <td>6.903</td>\n",
       "    </tr>\n",
       "    <tr>\n",
       "      <th>1</th>\n",
       "      <td>1980</td>\n",
       "      <td>7.544</td>\n",
       "    </tr>\n",
       "    <tr>\n",
       "      <th>2</th>\n",
       "      <td>1981</td>\n",
       "      <td>6.903</td>\n",
       "    </tr>\n",
       "    <tr>\n",
       "      <th>3</th>\n",
       "      <td>1982</td>\n",
       "      <td>7.166</td>\n",
       "    </tr>\n",
       "    <tr>\n",
       "      <th>4</th>\n",
       "      <td>1983</td>\n",
       "      <td>7.221</td>\n",
       "    </tr>\n",
       "    <tr>\n",
       "      <th>5</th>\n",
       "      <td>1984</td>\n",
       "      <td>6.426</td>\n",
       "    </tr>\n",
       "    <tr>\n",
       "      <th>6</th>\n",
       "      <td>1985</td>\n",
       "      <td>6.491</td>\n",
       "    </tr>\n",
       "    <tr>\n",
       "      <th>7</th>\n",
       "      <td>1986</td>\n",
       "      <td>7.157</td>\n",
       "    </tr>\n",
       "    <tr>\n",
       "      <th>8</th>\n",
       "      <td>1987</td>\n",
       "      <td>6.963</td>\n",
       "    </tr>\n",
       "    <tr>\n",
       "      <th>9</th>\n",
       "      <td>1988</td>\n",
       "      <td>7.126</td>\n",
       "    </tr>\n",
       "    <tr>\n",
       "      <th>10</th>\n",
       "      <td>1989</td>\n",
       "      <td>6.907</td>\n",
       "    </tr>\n",
       "    <tr>\n",
       "      <th>11</th>\n",
       "      <td>1990</td>\n",
       "      <td>6.036</td>\n",
       "    </tr>\n",
       "    <tr>\n",
       "      <th>12</th>\n",
       "      <td>1991</td>\n",
       "      <td>6.302</td>\n",
       "    </tr>\n",
       "    <tr>\n",
       "      <th>13</th>\n",
       "      <td>1992</td>\n",
       "      <td>7.209</td>\n",
       "    </tr>\n",
       "    <tr>\n",
       "      <th>14</th>\n",
       "      <td>1993</td>\n",
       "      <td>6.184</td>\n",
       "    </tr>\n",
       "    <tr>\n",
       "      <th>15</th>\n",
       "      <td>1994</td>\n",
       "      <td>6.961</td>\n",
       "    </tr>\n",
       "    <tr>\n",
       "      <th>16</th>\n",
       "      <td>1995</td>\n",
       "      <td>6.027</td>\n",
       "    </tr>\n",
       "    <tr>\n",
       "      <th>17</th>\n",
       "      <td>1996</td>\n",
       "      <td>7.191</td>\n",
       "    </tr>\n",
       "    <tr>\n",
       "      <th>18</th>\n",
       "      <td>1997</td>\n",
       "      <td>6.628</td>\n",
       "    </tr>\n",
       "    <tr>\n",
       "      <th>19</th>\n",
       "      <td>1998</td>\n",
       "      <td>6.351</td>\n",
       "    </tr>\n",
       "    <tr>\n",
       "      <th>20</th>\n",
       "      <td>1999</td>\n",
       "      <td>5.757</td>\n",
       "    </tr>\n",
       "    <tr>\n",
       "      <th>21</th>\n",
       "      <td>2000</td>\n",
       "      <td>5.978</td>\n",
       "    </tr>\n",
       "    <tr>\n",
       "      <th>22</th>\n",
       "      <td>2001</td>\n",
       "      <td>6.603</td>\n",
       "    </tr>\n",
       "    <tr>\n",
       "      <th>23</th>\n",
       "      <td>2002</td>\n",
       "      <td>5.638</td>\n",
       "    </tr>\n",
       "    <tr>\n",
       "      <th>24</th>\n",
       "      <td>2003</td>\n",
       "      <td>6.007</td>\n",
       "    </tr>\n",
       "    <tr>\n",
       "      <th>25</th>\n",
       "      <td>2004</td>\n",
       "      <td>5.794</td>\n",
       "    </tr>\n",
       "    <tr>\n",
       "      <th>26</th>\n",
       "      <td>2005</td>\n",
       "      <td>5.319</td>\n",
       "    </tr>\n",
       "    <tr>\n",
       "      <th>27</th>\n",
       "      <td>2006</td>\n",
       "      <td>5.774</td>\n",
       "    </tr>\n",
       "    <tr>\n",
       "      <th>28</th>\n",
       "      <td>2007</td>\n",
       "      <td>4.155</td>\n",
       "    </tr>\n",
       "    <tr>\n",
       "      <th>29</th>\n",
       "      <td>2008</td>\n",
       "      <td>4.586</td>\n",
       "    </tr>\n",
       "    <tr>\n",
       "      <th>30</th>\n",
       "      <td>2009</td>\n",
       "      <td>5.119</td>\n",
       "    </tr>\n",
       "    <tr>\n",
       "      <th>31</th>\n",
       "      <td>2010</td>\n",
       "      <td>4.615</td>\n",
       "    </tr>\n",
       "    <tr>\n",
       "      <th>32</th>\n",
       "      <td>2011</td>\n",
       "      <td>4.344</td>\n",
       "    </tr>\n",
       "    <tr>\n",
       "      <th>33</th>\n",
       "      <td>2012</td>\n",
       "      <td>3.387</td>\n",
       "    </tr>\n",
       "    <tr>\n",
       "      <th>34</th>\n",
       "      <td>2013</td>\n",
       "      <td>5.054</td>\n",
       "    </tr>\n",
       "    <tr>\n",
       "      <th>35</th>\n",
       "      <td>2014</td>\n",
       "      <td>5.029</td>\n",
       "    </tr>\n",
       "    <tr>\n",
       "      <th>36</th>\n",
       "      <td>2015</td>\n",
       "      <td>4.433</td>\n",
       "    </tr>\n",
       "    <tr>\n",
       "      <th>37</th>\n",
       "      <td>2016</td>\n",
       "      <td>4.165</td>\n",
       "    </tr>\n",
       "    <tr>\n",
       "      <th>38</th>\n",
       "      <td>2017</td>\n",
       "      <td>4.665</td>\n",
       "    </tr>\n",
       "    <tr>\n",
       "      <th>39</th>\n",
       "      <td>2018</td>\n",
       "      <td>4.656</td>\n",
       "    </tr>\n",
       "    <tr>\n",
       "      <th>40</th>\n",
       "      <td>2019</td>\n",
       "      <td>4.192</td>\n",
       "    </tr>\n",
       "    <tr>\n",
       "      <th>41</th>\n",
       "      <td>2020</td>\n",
       "      <td>3.818</td>\n",
       "    </tr>\n",
       "    <tr>\n",
       "      <th>42</th>\n",
       "      <td>2021</td>\n",
       "      <td>4.720</td>\n",
       "    </tr>\n",
       "    <tr>\n",
       "      <th>43</th>\n",
       "      <td>2022</td>\n",
       "      <td>4.670</td>\n",
       "    </tr>\n",
       "  </tbody>\n",
       "</table>\n",
       "</div>"
      ],
      "text/plain": [
       "    year  extent\n",
       "0   1979   6.903\n",
       "1   1980   7.544\n",
       "2   1981   6.903\n",
       "3   1982   7.166\n",
       "4   1983   7.221\n",
       "5   1984   6.426\n",
       "6   1985   6.491\n",
       "7   1986   7.157\n",
       "8   1987   6.963\n",
       "9   1988   7.126\n",
       "10  1989   6.907\n",
       "11  1990   6.036\n",
       "12  1991   6.302\n",
       "13  1992   7.209\n",
       "14  1993   6.184\n",
       "15  1994   6.961\n",
       "16  1995   6.027\n",
       "17  1996   7.191\n",
       "18  1997   6.628\n",
       "19  1998   6.351\n",
       "20  1999   5.757\n",
       "21  2000   5.978\n",
       "22  2001   6.603\n",
       "23  2002   5.638\n",
       "24  2003   6.007\n",
       "25  2004   5.794\n",
       "26  2005   5.319\n",
       "27  2006   5.774\n",
       "28  2007   4.155\n",
       "29  2008   4.586\n",
       "30  2009   5.119\n",
       "31  2010   4.615\n",
       "32  2011   4.344\n",
       "33  2012   3.387\n",
       "34  2013   5.054\n",
       "35  2014   5.029\n",
       "36  2015   4.433\n",
       "37  2016   4.165\n",
       "38  2017   4.665\n",
       "39  2018   4.656\n",
       "40  2019   4.192\n",
       "41  2020   3.818\n",
       "42  2021   4.720\n",
       "43  2022   4.670"
      ]
     },
     "execution_count": 5,
     "metadata": {},
     "output_type": "execute_result"
    }
   ],
   "source": [
    "data_enter"
   ]
  },
  {
   "cell_type": "code",
   "execution_count": 6,
   "id": "daef5f75-00f5-4106-bcb4-90c2c14ec4b0",
   "metadata": {},
   "outputs": [],
   "source": [
    "y_e = data_enter['year']"
   ]
  },
  {
   "cell_type": "code",
   "execution_count": 7,
   "id": "a45cae0e-fff0-47f9-a967-1aa60b4c86b3",
   "metadata": {},
   "outputs": [],
   "source": [
    "e_x = data_enter['extent']"
   ]
  },
  {
   "cell_type": "code",
   "execution_count": 8,
   "id": "d99011af-33bb-4aad-be9a-26410dd9eb8b",
   "metadata": {},
   "outputs": [],
   "source": [
    "list_year = list()"
   ]
  },
  {
   "cell_type": "code",
   "execution_count": 9,
   "id": "66aaf43b-4a2a-4e8e-ae4c-cfe80314be36",
   "metadata": {},
   "outputs": [],
   "source": [
    "list_extent = list()"
   ]
  },
  {
   "cell_type": "code",
   "execution_count": 10,
   "id": "644dca9d-de67-4d6f-8e0a-0fb3559bd54a",
   "metadata": {},
   "outputs": [],
   "source": [
    "for year in y_e:\n",
    "    list_year.append(year)"
   ]
  },
  {
   "cell_type": "code",
   "execution_count": 11,
   "id": "57736636-cf0c-4bee-adbc-b2c5f255d6b6",
   "metadata": {},
   "outputs": [],
   "source": [
    "for extention in e_x:\n",
    "    list_extent.append(extention)"
   ]
  },
  {
   "cell_type": "code",
   "execution_count": 12,
   "id": "99bdf5ce-3fcf-461e-bfed-4ac53b00f506",
   "metadata": {},
   "outputs": [
    {
     "name": "stdout",
     "output_type": "stream",
     "text": [
      "[1979, 1980, 1981, 1982, 1983, 1984, 1985, 1986, 1987, 1988, 1989, 1990, 1991, 1992, 1993, 1994, 1995, 1996, 1997, 1998, 1999, 2000, 2001, 2002, 2003, 2004, 2005, 2006, 2007, 2008, 2009, 2010, 2011, 2012, 2013, 2014, 2015, 2016, 2017, 2018, 2019, 2020, 2021, 2022]\n",
      "[6.903, 7.544, 6.903, 7.166, 7.221, 6.426, 6.491, 7.157, 6.963, 7.126, 6.907, 6.036, 6.302, 7.209, 6.184, 6.961, 6.027, 7.191, 6.628, 6.351, 5.757, 5.978, 6.603, 5.638, 6.007, 5.794, 5.319, 5.774, 4.155, 4.586, 5.119, 4.615, 4.344, 3.387, 5.054, 5.029, 4.433, 4.165, 4.665, 4.656, 4.192, 3.818, 4.72, 4.67]\n"
     ]
    }
   ],
   "source": [
    "print(list_year)\n",
    "print(list_extent)"
   ]
  },
  {
   "cell_type": "code",
   "execution_count": 13,
   "id": "b5e40551-ce73-4797-92eb-9ac333376e12",
   "metadata": {},
   "outputs": [],
   "source": [
    "dictary = dict(zip(list_year, list_extent))"
   ]
  },
  {
   "cell_type": "code",
   "execution_count": 14,
   "id": "15c7ca58-8c5c-4066-b146-ccf44448ce76",
   "metadata": {},
   "outputs": [
    {
     "name": "stdout",
     "output_type": "stream",
     "text": [
      "{1979: 6.903, 1980: 7.544, 1981: 6.903, 1982: 7.166, 1983: 7.221, 1984: 6.426, 1985: 6.491, 1986: 7.157, 1987: 6.963, 1988: 7.126, 1989: 6.907, 1990: 6.036, 1991: 6.302, 1992: 7.209, 1993: 6.184, 1994: 6.961, 1995: 6.027, 1996: 7.191, 1997: 6.628, 1998: 6.351, 1999: 5.757, 2000: 5.978, 2001: 6.603, 2002: 5.638, 2003: 6.007, 2004: 5.794, 2005: 5.319, 2006: 5.774, 2007: 4.155, 2008: 4.586, 2009: 5.119, 2010: 4.615, 2011: 4.344, 2012: 3.387, 2013: 5.054, 2014: 5.029, 2015: 4.433, 2016: 4.165, 2017: 4.665, 2018: 4.656, 2019: 4.192, 2020: 3.818, 2021: 4.72, 2022: 4.67}\n"
     ]
    }
   ],
   "source": [
    "print(dictary)"
   ]
  },
  {
   "cell_type": "code",
   "execution_count": 15,
   "id": "cb091de6-f774-478f-8272-8ad92066c5a1",
   "metadata": {},
   "outputs": [],
   "source": [
    "x_asix = list_year"
   ]
  },
  {
   "cell_type": "code",
   "execution_count": 16,
   "id": "95312775-d955-4a6c-bf45-f9e51b2e07aa",
   "metadata": {},
   "outputs": [],
   "source": [
    "y_asix = list_extent"
   ]
  },
  {
   "cell_type": "code",
   "execution_count": 17,
   "id": "93046879-2eff-4902-96bf-dd31a7bc2ac5",
   "metadata": {},
   "outputs": [
    {
     "data": {
      "image/png": "[encoded data removed]",
      "text/plain": [
       "<Figure size 640x480 with 1 Axes>"
      ]
     },
     "metadata": {},
     "output_type": "display_data"
    }
   ],
   "source": [
    "monitor_1 = pip.plot(x_asix, y_asix)"
   ]
  },
  {
   "cell_type": "code",
   "execution_count": 18,
   "id": "cdbcb09a-076c-47bb-b9d5-6f1cf520634c",
   "metadata": {},
   "outputs": [],
   "source": [
    "x_asix = list_extent "
   ]
  },
  {
   "cell_type": "code",
   "execution_count": 19,
   "id": "8c23d68b-9d46-4050-b31c-2ff0b8e14554",
   "metadata": {},
   "outputs": [],
   "source": [
    "y_asix = list_year"
   ]
  },
  {
   "cell_type": "code",
   "execution_count": 20,
   "id": "01b8af54-40f9-468e-8be3-1bc2ccf6d883",
   "metadata": {},
   "outputs": [
    {
     "data": {
      "image/png": "[encoded data removed]",
      "text/plain": [
       "<Figure size 640x480 with 1 Axes>"
      ]
     },
     "metadata": {},
     "output_type": "display_data"
    }
   ],
   "source": [
    "monitor_1_reverse = pip.plot(x_asix, y_asix)"
   ]
  },
  {
   "cell_type": "code",
   "execution_count": 21,
   "id": "3235ad3c-4da1-4b6a-869e-a69f9650e5a7",
   "metadata": {},
   "outputs": [],
   "source": [
    "max_extent = max(x_asix)"
   ]
  },
  {
   "cell_type": "code",
   "execution_count": 22,
   "id": "f91cde72-775c-48dc-b49e-a6cb6f3faa20",
   "metadata": {},
   "outputs": [
    {
     "name": "stdout",
     "output_type": "stream",
     "text": [
      "7.544\n"
     ]
    }
   ],
   "source": [
    "print(max_extent)"
   ]
  },
  {
   "cell_type": "code",
   "execution_count": 23,
   "id": "7caadcaf-41e6-437c-8b1f-3c0db45184d1",
   "metadata": {},
   "outputs": [
    {
     "data": {
      "text/plain": [
       "{1979: 6.903,\n",
       " 1980: 7.544,\n",
       " 1981: 6.903,\n",
       " 1982: 7.166,\n",
       " 1983: 7.221,\n",
       " 1984: 6.426,\n",
       " 1985: 6.491,\n",
       " 1986: 7.157,\n",
       " 1987: 6.963,\n",
       " 1988: 7.126,\n",
       " 1989: 6.907,\n",
       " 1990: 6.036,\n",
       " 1991: 6.302,\n",
       " 1992: 7.209,\n",
       " 1993: 6.184,\n",
       " 1994: 6.961,\n",
       " 1995: 6.027,\n",
       " 1996: 7.191,\n",
       " 1997: 6.628,\n",
       " 1998: 6.351,\n",
       " 1999: 5.757,\n",
       " 2000: 5.978,\n",
       " 2001: 6.603,\n",
       " 2002: 5.638,\n",
       " 2003: 6.007,\n",
       " 2004: 5.794,\n",
       " 2005: 5.319,\n",
       " 2006: 5.774,\n",
       " 2007: 4.155,\n",
       " 2008: 4.586,\n",
       " 2009: 5.119,\n",
       " 2010: 4.615,\n",
       " 2011: 4.344,\n",
       " 2012: 3.387,\n",
       " 2013: 5.054,\n",
       " 2014: 5.029,\n",
       " 2015: 4.433,\n",
       " 2016: 4.165,\n",
       " 2017: 4.665,\n",
       " 2018: 4.656,\n",
       " 2019: 4.192,\n",
       " 2020: 3.818,\n",
       " 2021: 4.72,\n",
       " 2022: 4.67}"
      ]
     },
     "execution_count": 23,
     "metadata": {},
     "output_type": "execute_result"
    }
   ],
   "source": [
    "dictary"
   ]
  },
  {
   "cell_type": "code",
   "execution_count": 24,
   "id": "d91e9394-2a27-4d08-9207-f75cb0de73ae",
   "metadata": {},
   "outputs": [],
   "source": [
    "high = max(dictary.values())"
   ]
  },
  {
   "cell_type": "code",
   "execution_count": 25,
   "id": "25cb8139-4417-4823-a7d3-bacd2f9ec8bb",
   "metadata": {},
   "outputs": [
    {
     "data": {
      "text/plain": [
       "7.544"
      ]
     },
     "execution_count": 25,
     "metadata": {},
     "output_type": "execute_result"
    }
   ],
   "source": [
    "high"
   ]
  },
  {
   "cell_type": "code",
   "execution_count": 26,
   "id": "7da46f40-308f-47e3-b033-38c4d3afb607",
   "metadata": {},
   "outputs": [],
   "source": [
    "high = max(dictary.items())"
   ]
  },
  {
   "cell_type": "code",
   "execution_count": 27,
   "id": "ebb58404-eb12-414a-b02a-40712ef483f6",
   "metadata": {},
   "outputs": [
    {
     "data": {
      "text/plain": [
       "(2022, 4.67)"
      ]
     },
     "execution_count": 27,
     "metadata": {},
     "output_type": "execute_result"
    }
   ],
   "source": [
    "high"
   ]
  },
  {
   "cell_type": "code",
   "execution_count": null,
   "id": "1ad16c64-20ab-48fa-90c4-d29fe812108f",
   "metadata": {},
   "outputs": [],
   "source": []
  }
 ],
 "metadata": {
  "kernelspec": {
   "display_name": "Python 3 (ipykernel)",
   "language": "python",
   "name": "python3"
  },
  "language_info": {
   "codemirror_mode": {
    "name": "ipython",
    "version": 3
   },
   "file_extension": ".py",
   "mimetype": "text/x-python",
   "name": "python",
   "nbconvert_exporter": "python",
   "pygments_lexer": "ipython3",
   "version": "3.10.6"
  }
 },
 "nbformat": 4,
 "nbformat_minor": 5
}
